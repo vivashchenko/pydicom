{
 "cells": [
  {
   "cell_type": "code",
   "execution_count": 1,
   "id": "equivalent-sight",
   "metadata": {},
   "outputs": [],
   "source": [
    "import os\n",
    "import glob\n",
    "from pydicom import dcmread\n",
    "from pathlib import Path"
   ]
  },
  {
   "cell_type": "code",
   "execution_count": 2,
   "id": "reverse-xerox",
   "metadata": {},
   "outputs": [],
   "source": [
    "dirWithDCMs = r'/home/vlad/Downloads/test_med/recruit/src'\n",
    "# этот путь нужно поменять на свою дирректорию\n",
    "fileWithPaths = open(dirWithDCMs + \"/path.dat\", \"a\")\n",
    "# создаем файл, куда запишем старый и новый пути\n",
    "os.chdir(dirWithDCMs)  \n",
    "# смена рабочей дирректории    \n",
    "for file in glob.glob(\"*.dcm\"):\n",
    "    filePath = os.path.join(dirWithDCMs, file)\n",
    "    ds = dcmread(filePath)\n",
    "    if \"PatientName\" in ds:\n",
    "        del ds.PatientName\n",
    "    # не во всех файлах был такой тэг, поэтому доп. проверка\n",
    "    newPath  = dirWithDCMs+\"/structured/\"\n",
    "    newPath += ds.StudyInstanceUID\n",
    "    newPath += \"/\" + ds.SeriesInstanceUID + \"/\"\n",
    "    # разбил так, чтобы удобно было менять тэги, если нужно изменить логику формирования нового пути \n",
    "    Path(newPath).mkdir(parents=True, exist_ok=True)\n",
    "    newPath += \"/\" + ds.SOPInstanceUID + \".dcm\"\n",
    "    os.rename(filePath, newPath)\n",
    "    # создаем новую структуру хранения в соответствии с заданием \n",
    "    fileWithPaths.write(filePath+\" ---->  \"+newPath+'\\n')\n",
    "    # вносим запись в файл, в котором хранятся пути\n",
    "fileWithPaths.close()"
   ]
  },
  {
   "cell_type": "code",
   "execution_count": null,
   "id": "iraqi-scheduling",
   "metadata": {},
   "outputs": [],
   "source": []
  }
 ],
 "metadata": {
  "kernelspec": {
   "display_name": "Python 3 (ipykernel)",
   "language": "python",
   "name": "python3"
  },
  "language_info": {
   "codemirror_mode": {
    "name": "ipython",
    "version": 3
   },
   "file_extension": ".py",
   "mimetype": "text/x-python",
   "name": "python",
   "nbconvert_exporter": "python",
   "pygments_lexer": "ipython3",
   "version": "3.9.2"
  }
 },
 "nbformat": 4,
 "nbformat_minor": 5
}
